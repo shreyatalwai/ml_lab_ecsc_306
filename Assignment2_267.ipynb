{
 "cells": [
  {
   "cell_type": "code",
   "execution_count": null,
   "metadata": {
    "collapsed": true
   },
   "outputs": [],
   "source": [
    "import tensorflow as tf\n",
    "x=tf.constant([1.1,2.2,3.3,4.4,5.5])\n",
    "y=tf.constant([2.2,3.3,3,4,6])\n",
    "\n",
    "mean_x=tf.reduce_mean(x)\n",
    "mean_y=tf.reduce_mean(y)\n",
    "ss=tf.Session()\n",
    "print (ss.run(mean_x))\n",
    "print (ss.run(mean_y))\n",
    "\n",
    "#var_x=tf.nn.weighted_moments(x,,mean_x)\n",
    "x_x=tf.subtract(x,mean_x)\n",
    "y_y=tf.subtract(y,mean_y)\n",
    "\n",
    "sqr1=tf.square(x_x)\n",
    "sqr2=tf.square(y_y)\n",
    "\n",
    "var1=tf.reduce_sum(sqr1)\n",
    "var2=tf.reduce_sum(sqr2)\n",
    "\n",
    "print (ss.run(var1))\n",
    "print (ss.run(var2))\n",
    "\n",
    "tmp=tf.multiply(x_x,y_y)\n",
    "cov=tf.reduce_sum(tmp)\n",
    "\n",
    "print (ss.run(cov))\n",
    "\n",
    "m=tf.div(cov,var1)\n",
    "\n",
    "print (ss.run(m))\n",
    "\n",
    "tmp2=tf.multiply(m,mean_x)\n",
    "c=tf.subtract(mean_y,tmp2)\n",
    "\n",
    "print (ss.run(c))"
   ]
  }
 ],
 "metadata": {
  "kernelspec": {
   "display_name": "Python 3",
   "language": "python",
   "name": "python3"
  },
  "language_info": {
   "codemirror_mode": {
    "name": "ipython",
    "version": 3
   },
   "file_extension": ".py",
   "mimetype": "text/x-python",
   "name": "python",
   "nbconvert_exporter": "python",
   "pygments_lexer": "ipython3",
   "version": "3.6.1"
  }
 },
 "nbformat": 4,
 "nbformat_minor": 2
}
