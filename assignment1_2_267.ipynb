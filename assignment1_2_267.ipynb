{
 "cells": [
  {
   "cell_type": "code",
   "execution_count": null,
   "metadata": {
    "collapsed": true
   },
   "outputs": [],
   "source": [
    "import tensorflow as tf\n",
    "a=tf.constant(38)\n",
    "b=tf.constant(25)\n",
    "temp=tf.subtract(a,b)\n",
    "result=tf.multiply(temp,temp)\n",
    "result2=tf.multiply(result,temp)\n",
    "with tf.Session() as sess:\n",
    "    writer= tf.summary.FileWriter(\"/tmp/tboard/output267_1\",sess.graph)\n",
    "    print(sess.run(result2))\n",
    "    writer.close()"
   ]
  }
 ],
 "metadata": {
  "kernelspec": {
   "display_name": "Python 3",
   "language": "python",
   "name": "python3"
  },
  "language_info": {
   "codemirror_mode": {
    "name": "ipython",
    "version": 3
   },
   "file_extension": ".py",
   "mimetype": "text/x-python",
   "name": "python",
   "nbconvert_exporter": "python",
   "pygments_lexer": "ipython3",
   "version": "3.6.1"
  }
 },
 "nbformat": 4,
 "nbformat_minor": 2
}
