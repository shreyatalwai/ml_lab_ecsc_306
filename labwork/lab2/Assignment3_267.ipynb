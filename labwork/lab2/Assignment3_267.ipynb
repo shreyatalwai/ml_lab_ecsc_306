{
 "cells": [
  {
   "cell_type": "code",
   "execution_count": 1,
   "metadata": {},
   "outputs": [
    {
     "name": "stdout",
     "output_type": "stream",
     "text": [
      "3.0\n",
      "2.6\n"
     ]
    }
   ],
   "source": [
    "import tensorflow as tf\n",
    "tf.reset_default_graph()\n",
    "x=tf.constant([1.0,2.0,4.0,5.0,3.0])\n",
    "y=tf.constant([1.0,2.0,3.0,2.0,5.0])\n",
    "with tf.name_scope(\"mean_x\"):\n",
    "    meanx=tf.reduce_mean(x);\n",
    "with tf.name_scope(\"mean_y\"):   \n",
    "    meany=tf.reduce_mean(y);\n",
    "with tf.Session() as sess:\n",
    "    print(sess.run(meanx))\n",
    "with tf.Session() as sess:\n",
    "    print(sess.run(meany))"
   ]
  },
  {
   "cell_type": "code",
   "execution_count": 2,
   "metadata": {},
   "outputs": [
    {
     "name": "stdout",
     "output_type": "stream",
     "text": [
      "[ 4.  1.  1.  4.  0.]\n",
      "0.75\n",
      "0.375\n",
      "Rms error=  0.92\n"
     ]
    }
   ],
   "source": [
    "with tf.name_scope(\"Variance_of_x\"):  \n",
    "    sq=tf.subtract(x,meanx)\n",
    "    meanx2=tf.square(sq)\n",
    "    with tf.Session() as sess:\n",
    "        print(sess.run(meanx2))\n",
    "    varx=tf.reduce_mean(meanx2)\n",
    "with tf.name_scope(\"coVariance_of_xy\"):     \n",
    "    cov_xy=tf.reduce_sum((x-meanx)*(y-meany))\n",
    "    cov=tf.divide(cov_xy,4)\n",
    "    with tf.Session() as sess:\n",
    "        print(sess.run(cov))\n",
    "with tf.name_scope(\"calculatig_m\"):\n",
    "    m=tf.divide(cov,varx)\n",
    "    with tf.Session() as sess:\n",
    "        print(sess.run(m))\n",
    "with tf.name_scope(\"calculatig_c\"):\n",
    "    temp1=tf.multiply(m,meanx)\n",
    "    c= tf.subtract(meany,temp1)\n",
    "with tf.name_scope(\"calculatig_rms\"):\n",
    "     with tf.Session() as sess:\n",
    "        dif=tf.square(y-meany)\n",
    "        rms=(tf.reduce_sum(dif))/10\n",
    "        print (\"Rms error= \",sess.run(rms))\n",
    "   "
   ]
  },
  {
   "cell_type": "code",
   "execution_count": 4,
   "metadata": {},
   "outputs": [
    {
     "name": "stdout",
     "output_type": "stream",
     "text": [
      "[ 1.8499999  2.2249999  2.9749999  3.3499999  2.5999999]\n",
      "4.17812\n",
      "4.17812\n"
     ]
    }
   ],
   "source": [
    "with tf.name_scope(\"h_theta\"):    \n",
    "    mx=tf.multiply(m,x)\n",
    "    htheta=tf.add(c,mx)\n",
    "    sess=tf.Session()\n",
    "    print(sess.run(htheta))\n",
    "with tf.name_scope(\"j_theta\"):  \n",
    "    var2_j=tf.subtract(htheta,y)\n",
    "    var1_j=tf.square(var2_j)\n",
    "    jtheta2 = tf.reduce_sum(var1_j)\n",
    "    jtheta=tf.divide(jtheta2,2)\n",
    "    sess=tf.Session()\n",
    "    print(sess.run(jtheta))\n",
    "    with tf.Session() as sess:\n",
    "        writer = tf.summary.FileWriter(\"/tmp/tboard/output267\",sess.graph)\n",
    "        print(sess.run(jtheta))\n",
    "        writer.close()"
   ]
  },
  {
   "cell_type": "code",
   "execution_count": null,
   "metadata": {
    "collapsed": true
   },
   "outputs": [],
   "source": []
  }
 ],
 "metadata": {
  "kernelspec": {
   "display_name": "Python 3",
   "language": "python",
   "name": "python3"
  },
  "language_info": {
   "codemirror_mode": {
    "name": "ipython",
    "version": 3
   },
   "file_extension": ".py",
   "mimetype": "text/x-python",
   "name": "python",
   "nbconvert_exporter": "python",
   "pygments_lexer": "ipython3",
   "version": "3.6.1"
  }
 },
 "nbformat": 4,
 "nbformat_minor": 2
}
